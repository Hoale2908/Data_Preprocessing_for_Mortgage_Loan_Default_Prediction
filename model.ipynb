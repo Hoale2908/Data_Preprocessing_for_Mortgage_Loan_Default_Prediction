{
 "cells": [
  {
   "cell_type": "code",
   "execution_count": 1,
   "id": "8305db76",
   "metadata": {
    "_cell_guid": "b1076dfc-b9ad-4769-8c92-a6c4dae69d19",
    "_uuid": "8f2839f25d086af736a60e9eeb907d3b93b6e0e5",
    "execution": {
     "iopub.execute_input": "2024-09-15T20:46:17.195025Z",
     "iopub.status.busy": "2024-09-15T20:46:17.194607Z",
     "iopub.status.idle": "2024-09-15T20:46:19.394230Z",
     "shell.execute_reply": "2024-09-15T20:46:19.392911Z"
    },
    "papermill": {
     "duration": 2.208404,
     "end_time": "2024-09-15T20:46:19.396518",
     "exception": false,
     "start_time": "2024-09-15T20:46:17.188114",
     "status": "completed"
    },
    "tags": []
   },
   "outputs": [
    {
     "name": "stdout",
     "output_type": "stream",
     "text": [
      "/kaggle/input/loan-default-dataset/Loan_Default.csv\n"
     ]
    }
   ],
   "source": [
    "import numpy as np \n",
    "import pandas as pd \n",
    "import seaborn as sns\n",
    "import matplotlib.pyplot as plt\n",
    "\n",
    "import os\n",
    "for dirname, _, filenames in os.walk('/kaggle/input'):\n",
    "    for filename in filenames:\n",
    "        print(os.path.join(dirname, filename))"
   ]
  },
  {
   "cell_type": "markdown",
   "id": "9b91ba3b",
   "metadata": {
    "papermill": {
     "duration": 0.003995,
     "end_time": "2024-09-15T20:46:19.405039",
     "exception": false,
     "start_time": "2024-09-15T20:46:19.401044",
     "status": "completed"
    },
    "tags": []
   },
   "source": [
    "# Data Cleaning & Transformation"
   ]
  },
  {
   "cell_type": "code",
   "execution_count": 2,
   "id": "1d08ddab",
   "metadata": {
    "execution": {
     "iopub.execute_input": "2024-09-15T20:46:19.415276Z",
     "iopub.status.busy": "2024-09-15T20:46:19.414686Z",
     "iopub.status.idle": "2024-09-15T20:46:20.778614Z",
     "shell.execute_reply": "2024-09-15T20:46:20.777396Z"
    },
    "papermill": {
     "duration": 1.371895,
     "end_time": "2024-09-15T20:46:20.781113",
     "exception": false,
     "start_time": "2024-09-15T20:46:19.409218",
     "status": "completed"
    },
    "tags": []
   },
   "outputs": [
    {
     "name": "stdout",
     "output_type": "stream",
     "text": [
      "<class 'pandas.core.frame.DataFrame'>\n",
      "RangeIndex: 148670 entries, 0 to 148669\n",
      "Data columns (total 34 columns):\n",
      " #   Column                     Non-Null Count   Dtype  \n",
      "---  ------                     --------------   -----  \n",
      " 0   ID                         148670 non-null  int64  \n",
      " 1   year                       148670 non-null  int64  \n",
      " 2   loan_limit                 145326 non-null  object \n",
      " 3   Gender                     148670 non-null  object \n",
      " 4   approv_in_adv              147762 non-null  object \n",
      " 5   loan_type                  148670 non-null  object \n",
      " 6   loan_purpose               148536 non-null  object \n",
      " 7   Credit_Worthiness          148670 non-null  object \n",
      " 8   open_credit                148670 non-null  object \n",
      " 9   business_or_commercial     148670 non-null  object \n",
      " 10  loan_amount                148670 non-null  int64  \n",
      " 11  rate_of_interest           112231 non-null  float64\n",
      " 12  Interest_rate_spread       112031 non-null  float64\n",
      " 13  Upfront_charges            109028 non-null  float64\n",
      " 14  term                       148629 non-null  float64\n",
      " 15  Neg_ammortization          148549 non-null  object \n",
      " 16  interest_only              148670 non-null  object \n",
      " 17  lump_sum_payment           148670 non-null  object \n",
      " 18  property_value             133572 non-null  float64\n",
      " 19  construction_type          148670 non-null  object \n",
      " 20  occupancy_type             148670 non-null  object \n",
      " 21  Secured_by                 148670 non-null  object \n",
      " 22  total_units                148670 non-null  object \n",
      " 23  income                     139520 non-null  float64\n",
      " 24  credit_type                148670 non-null  object \n",
      " 25  Credit_Score               148670 non-null  int64  \n",
      " 26  co-applicant_credit_type   148670 non-null  object \n",
      " 27  age                        148470 non-null  object \n",
      " 28  submission_of_application  148470 non-null  object \n",
      " 29  LTV                        133572 non-null  float64\n",
      " 30  Region                     148670 non-null  object \n",
      " 31  Security_Type              148670 non-null  object \n",
      " 32  Status                     148670 non-null  int64  \n",
      " 33  dtir1                      124549 non-null  float64\n",
      "dtypes: float64(8), int64(5), object(21)\n",
      "memory usage: 38.6+ MB\n"
     ]
    }
   ],
   "source": [
    "data = pd.read_csv('/kaggle/input/loan-default-dataset/Loan_Default.csv')\n",
    "data.info()"
   ]
  },
  {
   "cell_type": "code",
   "execution_count": 3,
   "id": "8da43b7c",
   "metadata": {
    "execution": {
     "iopub.execute_input": "2024-09-15T20:46:20.792467Z",
     "iopub.status.busy": "2024-09-15T20:46:20.791334Z",
     "iopub.status.idle": "2024-09-15T20:46:20.981851Z",
     "shell.execute_reply": "2024-09-15T20:46:20.980588Z"
    },
    "papermill": {
     "duration": 0.199076,
     "end_time": "2024-09-15T20:46:20.984644",
     "exception": false,
     "start_time": "2024-09-15T20:46:20.785568",
     "status": "completed"
    },
    "tags": []
   },
   "outputs": [
    {
     "name": "stdout",
     "output_type": "stream",
     "text": [
      "loan_limit --------------------  ['cf' nan 'ncf']\n",
      "Gender ------------------------  ['Sex Not Available' 'Male' 'Joint' 'Female']\n",
      "approv_in_adv -----------------  ['nopre' 'pre' nan]\n",
      "loan_type ---------------------  ['type1' 'type2' 'type3']\n",
      "loan_purpose ------------------  ['p1' 'p4' 'p3' 'p2' nan]\n",
      "Credit_Worthiness -------------  ['l1' 'l2']\n",
      "open_credit -------------------  ['nopc' 'opc']\n",
      "business_or_commercial --------  ['nob/c' 'b/c']\n",
      "Neg_ammortization -------------  ['not_neg' 'neg_amm' nan]\n",
      "interest_only -----------------  ['not_int' 'int_only']\n",
      "lump_sum_payment --------------  ['not_lpsm' 'lpsm']\n",
      "construction_type -------------  ['sb' 'mh']\n",
      "occupancy_type ----------------  ['pr' 'sr' 'ir']\n",
      "Secured_by --------------------  ['home' 'land']\n",
      "total_units -------------------  ['1U' '2U' '3U' '4U']\n",
      "credit_type -------------------  ['EXP' 'EQUI' 'CRIF' 'CIB']\n",
      "co-applicant_credit_type ------  ['CIB' 'EXP']\n",
      "age ---------------------------  ['25-34' '55-64' '35-44' '45-54' '65-74' '>74' '<25' nan]\n",
      "submission_of_application -----  ['to_inst' 'not_inst' nan]\n",
      "Region ------------------------  ['south' 'North' 'central' 'North-East']\n",
      "Security_Type -----------------  ['direct' 'Indriect']\n"
     ]
    }
   ],
   "source": [
    "# Unique values of each categorical feature:\n",
    "\n",
    "for col in data.columns:\n",
    "    if data[col].dtypes == object:\n",
    "        print(col + ' ' + '-'*(30-len(col)) + ' ', data[col].unique())\n",
    "    else:\n",
    "        pass"
   ]
  },
  {
   "cell_type": "markdown",
   "id": "0c9cdcf5",
   "metadata": {
    "papermill": {
     "duration": 0.006312,
     "end_time": "2024-09-15T20:46:20.997844",
     "exception": false,
     "start_time": "2024-09-15T20:46:20.991532",
     "status": "completed"
    },
    "tags": []
   },
   "source": [
    "**Understanding some abbreviations and their meaning:**\n",
    "* Loan limit: CF (conforming) or NCF (non-conforming). Conforming loans meet the criteria for purchases by Fannie Mae or Freddie Mac to issue MBS, thus usually have lower interest or downpayment. ([source](https://www.quickenloans.com/learn/what-is-a-conforming-loan))\n",
    "* Approveal in advance (approv_in_adv): as the name suggests.\n",
    "* Open credit: whether the borrower is allowed to borrow more money.\n",
    "* Neg ammortization: A negative amortization loan is one in which unpaid interest is added to the balance of unpaid principal. ([source](https://www.investopedia.com/terms/n/negativeamortization.asp)) \n",
    "* Construction type: SB (splash block) or MH (manhole)\n",
    "* Occupancy type: PR, SR, and IR refer to primary, secondary and investment. Financial risks increase with the latter ones, so do interest rates. ([soure](https://www.homelendingpal.com/how-mortgage-lenders-determine-interest-rates-based-on-occupancy-types/))\n",
    "* Credit type: EXP = Experian, EQUI = Equifax, CRIF = CRIF Highmark, CIB = CIBIL. These are different credit reporting agencies. The main differences come down to the credit score calculations used and how they process information. ([source](https://www.chase.com/personal/credit-cards/education/credit-score/credit-bureau-differences) and [source](https://en.wikipedia.org/wiki/Credit_bureau))\n",
    "* Submission of application: *to_inst* seems to refer to a special method for loan approval, i.e. instance-based method. Read more at ([source](https://www.sciencedirect.com/science/article/pii/S0957417421002396)).\n",
    "* Security type: Direct or Indirect. Direct security means the borrower uses the mortgaged house to pledge against the loan. ([source](https://corporatefinanceinstitute.com/resources/commercial-lending/direct-security/#:~:text=To%20conclude%2C%20direct%20securities%20are,the%20borrower%20default%20on%20it.))\n"
   ]
  },
  {
   "cell_type": "code",
   "execution_count": 4,
   "id": "507a392e",
   "metadata": {
    "execution": {
     "iopub.execute_input": "2024-09-15T20:46:21.014808Z",
     "iopub.status.busy": "2024-09-15T20:46:21.013404Z",
     "iopub.status.idle": "2024-09-15T20:46:21.075094Z",
     "shell.execute_reply": "2024-09-15T20:46:21.074060Z"
    },
    "papermill": {
     "duration": 0.07345,
     "end_time": "2024-09-15T20:46:21.077988",
     "exception": false,
     "start_time": "2024-09-15T20:46:21.004538",
     "status": "completed"
    },
    "tags": []
   },
   "outputs": [],
   "source": [
    "# Remove features that are deemed to have insignificant impact on default\n",
    "\n",
    "loan = data.copy()\n",
    "loan.drop(columns=[\n",
    "    'loan_limit','Gender', 'construction_type', 'Secured_by', 'total_units', 'credit_type', 'co-applicant_credit_type', 'Region', 'Neg_ammortization', 'year'\n",
    "], axis=1, inplace=True)"
   ]
  },
  {
   "cell_type": "code",
   "execution_count": 5,
   "id": "a4dfbf00",
   "metadata": {
    "execution": {
     "iopub.execute_input": "2024-09-15T20:46:21.089131Z",
     "iopub.status.busy": "2024-09-15T20:46:21.088733Z",
     "iopub.status.idle": "2024-09-15T20:46:21.233169Z",
     "shell.execute_reply": "2024-09-15T20:46:21.231894Z"
    },
    "papermill": {
     "duration": 0.153149,
     "end_time": "2024-09-15T20:46:21.236061",
     "exception": false,
     "start_time": "2024-09-15T20:46:21.082912",
     "status": "completed"
    },
    "tags": []
   },
   "outputs": [
    {
     "data": {
      "text/html": [
       "<div>\n",
       "<style scoped>\n",
       "    .dataframe tbody tr th:only-of-type {\n",
       "        vertical-align: middle;\n",
       "    }\n",
       "\n",
       "    .dataframe tbody tr th {\n",
       "        vertical-align: top;\n",
       "    }\n",
       "\n",
       "    .dataframe thead th {\n",
       "        text-align: right;\n",
       "    }\n",
       "</style>\n",
       "<table border=\"1\" class=\"dataframe\">\n",
       "  <thead>\n",
       "    <tr style=\"text-align: right;\">\n",
       "      <th></th>\n",
       "      <th>ID</th>\n",
       "      <th>loan_amount</th>\n",
       "      <th>rate_of_interest</th>\n",
       "      <th>Interest_rate_spread</th>\n",
       "      <th>Upfront_charges</th>\n",
       "      <th>term</th>\n",
       "      <th>property_value</th>\n",
       "      <th>income</th>\n",
       "      <th>Credit_Score</th>\n",
       "      <th>LTV</th>\n",
       "      <th>Status</th>\n",
       "      <th>dtir1</th>\n",
       "    </tr>\n",
       "  </thead>\n",
       "  <tbody>\n",
       "    <tr>\n",
       "      <th>count</th>\n",
       "      <td>148670.000000</td>\n",
       "      <td>1.486700e+05</td>\n",
       "      <td>112231.000000</td>\n",
       "      <td>112031.000000</td>\n",
       "      <td>109028.000000</td>\n",
       "      <td>148629.000000</td>\n",
       "      <td>1.335720e+05</td>\n",
       "      <td>139520.000000</td>\n",
       "      <td>148670.000000</td>\n",
       "      <td>133572.000000</td>\n",
       "      <td>148670.000000</td>\n",
       "      <td>124549.000000</td>\n",
       "    </tr>\n",
       "    <tr>\n",
       "      <th>mean</th>\n",
       "      <td>99224.500000</td>\n",
       "      <td>3.311177e+05</td>\n",
       "      <td>4.045476</td>\n",
       "      <td>0.441656</td>\n",
       "      <td>3224.996127</td>\n",
       "      <td>335.136582</td>\n",
       "      <td>4.978935e+05</td>\n",
       "      <td>6957.338876</td>\n",
       "      <td>699.789103</td>\n",
       "      <td>72.746457</td>\n",
       "      <td>0.246445</td>\n",
       "      <td>37.732932</td>\n",
       "    </tr>\n",
       "    <tr>\n",
       "      <th>std</th>\n",
       "      <td>42917.476598</td>\n",
       "      <td>1.839093e+05</td>\n",
       "      <td>0.561391</td>\n",
       "      <td>0.513043</td>\n",
       "      <td>3251.121510</td>\n",
       "      <td>58.409084</td>\n",
       "      <td>3.599353e+05</td>\n",
       "      <td>6496.586382</td>\n",
       "      <td>115.875857</td>\n",
       "      <td>39.967603</td>\n",
       "      <td>0.430942</td>\n",
       "      <td>10.545435</td>\n",
       "    </tr>\n",
       "    <tr>\n",
       "      <th>min</th>\n",
       "      <td>24890.000000</td>\n",
       "      <td>1.650000e+04</td>\n",
       "      <td>0.000000</td>\n",
       "      <td>-3.638000</td>\n",
       "      <td>0.000000</td>\n",
       "      <td>96.000000</td>\n",
       "      <td>8.000000e+03</td>\n",
       "      <td>0.000000</td>\n",
       "      <td>500.000000</td>\n",
       "      <td>0.967478</td>\n",
       "      <td>0.000000</td>\n",
       "      <td>5.000000</td>\n",
       "    </tr>\n",
       "    <tr>\n",
       "      <th>25%</th>\n",
       "      <td>62057.250000</td>\n",
       "      <td>1.965000e+05</td>\n",
       "      <td>3.625000</td>\n",
       "      <td>0.076000</td>\n",
       "      <td>581.490000</td>\n",
       "      <td>360.000000</td>\n",
       "      <td>2.680000e+05</td>\n",
       "      <td>3720.000000</td>\n",
       "      <td>599.000000</td>\n",
       "      <td>60.474860</td>\n",
       "      <td>0.000000</td>\n",
       "      <td>31.000000</td>\n",
       "    </tr>\n",
       "    <tr>\n",
       "      <th>50%</th>\n",
       "      <td>99224.500000</td>\n",
       "      <td>2.965000e+05</td>\n",
       "      <td>3.990000</td>\n",
       "      <td>0.390400</td>\n",
       "      <td>2596.450000</td>\n",
       "      <td>360.000000</td>\n",
       "      <td>4.180000e+05</td>\n",
       "      <td>5760.000000</td>\n",
       "      <td>699.000000</td>\n",
       "      <td>75.135870</td>\n",
       "      <td>0.000000</td>\n",
       "      <td>39.000000</td>\n",
       "    </tr>\n",
       "    <tr>\n",
       "      <th>75%</th>\n",
       "      <td>136391.750000</td>\n",
       "      <td>4.365000e+05</td>\n",
       "      <td>4.375000</td>\n",
       "      <td>0.775400</td>\n",
       "      <td>4812.500000</td>\n",
       "      <td>360.000000</td>\n",
       "      <td>6.280000e+05</td>\n",
       "      <td>8520.000000</td>\n",
       "      <td>800.000000</td>\n",
       "      <td>86.184211</td>\n",
       "      <td>0.000000</td>\n",
       "      <td>45.000000</td>\n",
       "    </tr>\n",
       "    <tr>\n",
       "      <th>max</th>\n",
       "      <td>173559.000000</td>\n",
       "      <td>3.576500e+06</td>\n",
       "      <td>8.000000</td>\n",
       "      <td>3.357000</td>\n",
       "      <td>60000.000000</td>\n",
       "      <td>360.000000</td>\n",
       "      <td>1.650800e+07</td>\n",
       "      <td>578580.000000</td>\n",
       "      <td>900.000000</td>\n",
       "      <td>7831.250000</td>\n",
       "      <td>1.000000</td>\n",
       "      <td>61.000000</td>\n",
       "    </tr>\n",
       "  </tbody>\n",
       "</table>\n",
       "</div>"
      ],
      "text/plain": [
       "                  ID   loan_amount  rate_of_interest  Interest_rate_spread  \\\n",
       "count  148670.000000  1.486700e+05     112231.000000         112031.000000   \n",
       "mean    99224.500000  3.311177e+05          4.045476              0.441656   \n",
       "std     42917.476598  1.839093e+05          0.561391              0.513043   \n",
       "min     24890.000000  1.650000e+04          0.000000             -3.638000   \n",
       "25%     62057.250000  1.965000e+05          3.625000              0.076000   \n",
       "50%     99224.500000  2.965000e+05          3.990000              0.390400   \n",
       "75%    136391.750000  4.365000e+05          4.375000              0.775400   \n",
       "max    173559.000000  3.576500e+06          8.000000              3.357000   \n",
       "\n",
       "       Upfront_charges           term  property_value         income  \\\n",
       "count    109028.000000  148629.000000    1.335720e+05  139520.000000   \n",
       "mean       3224.996127     335.136582    4.978935e+05    6957.338876   \n",
       "std        3251.121510      58.409084    3.599353e+05    6496.586382   \n",
       "min           0.000000      96.000000    8.000000e+03       0.000000   \n",
       "25%         581.490000     360.000000    2.680000e+05    3720.000000   \n",
       "50%        2596.450000     360.000000    4.180000e+05    5760.000000   \n",
       "75%        4812.500000     360.000000    6.280000e+05    8520.000000   \n",
       "max       60000.000000     360.000000    1.650800e+07  578580.000000   \n",
       "\n",
       "        Credit_Score            LTV         Status          dtir1  \n",
       "count  148670.000000  133572.000000  148670.000000  124549.000000  \n",
       "mean      699.789103      72.746457       0.246445      37.732932  \n",
       "std       115.875857      39.967603       0.430942      10.545435  \n",
       "min       500.000000       0.967478       0.000000       5.000000  \n",
       "25%       599.000000      60.474860       0.000000      31.000000  \n",
       "50%       699.000000      75.135870       0.000000      39.000000  \n",
       "75%       800.000000      86.184211       0.000000      45.000000  \n",
       "max       900.000000    7831.250000       1.000000      61.000000  "
      ]
     },
     "execution_count": 5,
     "metadata": {},
     "output_type": "execute_result"
    }
   ],
   "source": [
    "loan.describe()"
   ]
  },
  {
   "cell_type": "markdown",
   "id": "bbb878ac",
   "metadata": {
    "papermill": {
     "duration": 0.006882,
     "end_time": "2024-09-15T20:46:21.250318",
     "exception": false,
     "start_time": "2024-09-15T20:46:21.243436",
     "status": "completed"
    },
    "tags": []
   },
   "source": [
    "Almost 25% of the loans are defaults (mean value of Status). The dataset is imbalance but not significantly. Noticably there are some loans where income = 0 and most of them defaulted as shown below."
   ]
  },
  {
   "cell_type": "code",
   "execution_count": 6,
   "id": "4f0b57cc",
   "metadata": {
    "execution": {
     "iopub.execute_input": "2024-09-15T20:46:21.267446Z",
     "iopub.status.busy": "2024-09-15T20:46:21.266328Z",
     "iopub.status.idle": "2024-09-15T20:46:21.281600Z",
     "shell.execute_reply": "2024-09-15T20:46:21.280061Z"
    },
    "papermill": {
     "duration": 0.026642,
     "end_time": "2024-09-15T20:46:21.284300",
     "exception": false,
     "start_time": "2024-09-15T20:46:21.257658",
     "status": "completed"
    },
    "tags": []
   },
   "outputs": [
    {
     "data": {
      "text/plain": [
       "Status\n",
       "0       8\n",
       "1    1252\n",
       "Name: ID, dtype: int64"
      ]
     },
     "execution_count": 6,
     "metadata": {},
     "output_type": "execute_result"
    }
   ],
   "source": [
    "zero_income = loan[loan['income']==0]\n",
    "zero_income.groupby(['Status'])['ID'].count()"
   ]
  },
  {
   "cell_type": "code",
   "execution_count": 7,
   "id": "6eeeda26",
   "metadata": {
    "execution": {
     "iopub.execute_input": "2024-09-15T20:46:21.296518Z",
     "iopub.status.busy": "2024-09-15T20:46:21.296082Z",
     "iopub.status.idle": "2024-09-15T20:46:21.491725Z",
     "shell.execute_reply": "2024-09-15T20:46:21.490427Z"
    },
    "papermill": {
     "duration": 0.204687,
     "end_time": "2024-09-15T20:46:21.494259",
     "exception": false,
     "start_time": "2024-09-15T20:46:21.289572",
     "status": "completed"
    },
    "tags": []
   },
   "outputs": [
    {
     "name": "stdout",
     "output_type": "stream",
     "text": [
      "Number of duplicated records:\n"
     ]
    },
    {
     "data": {
      "text/plain": [
       "0"
      ]
     },
     "execution_count": 7,
     "metadata": {},
     "output_type": "execute_result"
    }
   ],
   "source": [
    "# Checking for duplicates\n",
    "\n",
    "print('Number of duplicated records:')\n",
    "len(loan[loan.duplicated() == True])"
   ]
  },
  {
   "cell_type": "code",
   "execution_count": 8,
   "id": "0ea746e8",
   "metadata": {
    "execution": {
     "iopub.execute_input": "2024-09-15T20:46:21.506615Z",
     "iopub.status.busy": "2024-09-15T20:46:21.506073Z",
     "iopub.status.idle": "2024-09-15T20:46:21.684911Z",
     "shell.execute_reply": "2024-09-15T20:46:21.683491Z"
    },
    "papermill": {
     "duration": 0.187707,
     "end_time": "2024-09-15T20:46:21.687016",
     "exception": false,
     "start_time": "2024-09-15T20:46:21.499309",
     "status": "completed"
    },
    "tags": []
   },
   "outputs": [
    {
     "name": "stdout",
     "output_type": "stream",
     "text": [
      "Pecentage of missing data:       %\n",
      "----------------------------------\n"
     ]
    },
    {
     "data": {
      "text/plain": [
       "ID                            0.00\n",
       "Security_Type                 0.00\n",
       "loan_type                     0.00\n",
       "Credit_Score                  0.00\n",
       "Credit_Worthiness             0.00\n",
       "open_credit                   0.00\n",
       "business_or_commercial        0.00\n",
       "loan_amount                   0.00\n",
       "occupancy_type                0.00\n",
       "lump_sum_payment              0.00\n",
       "interest_only                 0.00\n",
       "Status                        0.00\n",
       "term                          0.03\n",
       "loan_purpose                  0.09\n",
       "age                           0.13\n",
       "submission_of_application     0.13\n",
       "approv_in_adv                 0.61\n",
       "income                        6.56\n",
       "property_value               11.30\n",
       "LTV                          11.30\n",
       "dtir1                        19.37\n",
       "rate_of_interest             32.47\n",
       "Interest_rate_spread         32.70\n",
       "Upfront_charges              36.36\n",
       "dtype: float64"
      ]
     },
     "execution_count": 8,
     "metadata": {},
     "output_type": "execute_result"
    }
   ],
   "source": [
    "# Checking for missing data\n",
    "\n",
    "print('Pecentage of missing data:       %')\n",
    "print('----------------------------------')\n",
    "round(loan.isna().sum()/loan.count() * 100,2).sort_values()"
   ]
  },
  {
   "cell_type": "markdown",
   "id": "ffc55b15",
   "metadata": {
    "papermill": {
     "duration": 0.004939,
     "end_time": "2024-09-15T20:46:21.697362",
     "exception": false,
     "start_time": "2024-09-15T20:46:21.692423",
     "status": "completed"
    },
    "tags": []
   },
   "source": [
    "Handling missing values in each feature should be dealt with separately because they have different characteristics. It should also be done in a specific order to account for their relationship. \n",
    "\n",
    "* Term, Neg_ammortization, loan_purpose, age, submission_of_application: fill with the most popular value since missing values are insignificant.\n",
    "* income, property_value, rate_of_interest, Interest_rate_spread, Upfront_charges: fill with mean value. (AFD)\n",
    "* LTV, dtir1: fill with the result of calculations from loan amount, property value, and income. Since there are records with income=0, we will replace 0 with the mean value of income before performing divisions. (AFD)\n",
    "\n",
    "For future development, read more about different methods [here](https://www.analyticsvidhya.com/blog/2021/10/handling-missing-value/#:~:text=Impute%20with%20Averages%20or%20Midpoints,method%20can%20preserve%20data%20integrity.) and [here](https://medium.com/@pingsubhak/handling-missing-values-in-dataset-7-methods-that-you-need-to-know-5067d4e32b62#:~:text=Forward%20fill%20(%20ffill%20)%20and%20backward,useful%20for%20time%2Dseries%20data.)\n",
    "\n",
    "(AFD: Area for development)"
   ]
  },
  {
   "cell_type": "code",
   "execution_count": 9,
   "id": "700efe61",
   "metadata": {
    "execution": {
     "iopub.execute_input": "2024-09-15T20:46:21.709929Z",
     "iopub.status.busy": "2024-09-15T20:46:21.709157Z",
     "iopub.status.idle": "2024-09-15T20:46:21.831838Z",
     "shell.execute_reply": "2024-09-15T20:46:21.830569Z"
    },
    "papermill": {
     "duration": 0.132258,
     "end_time": "2024-09-15T20:46:21.834778",
     "exception": false,
     "start_time": "2024-09-15T20:46:21.702520",
     "status": "completed"
    },
    "tags": []
   },
   "outputs": [],
   "source": [
    "# Fill with mode\n",
    "g1 = ['term', 'loan_purpose', 'age', 'submission_of_application']\n",
    "for col in g1:\n",
    "    loan[col] = loan[col].fillna(loan[col].mode())\n",
    "\n",
    "# Fill with mean\n",
    "g2 = ['income', 'property_value', 'rate_of_interest', 'Interest_rate_spread', 'Upfront_charges']\n",
    "for col in g2:\n",
    "    loan[col] = loan[col].fillna(loan[col].mean())\n",
    "    \n",
    "# Replace 0 with mean\n",
    "loan['income'] = loan['income'].replace(0, loan['income'].mean())\n",
    "    \n",
    "# Fill with calculated values\n",
    "loan['LTV'] = loan['LTV'].fillna(loan['loan_amount'] / loan['property_value'])\n",
    "loan['dtir1'] = loan['dtir1'].fillna(loan['loan_amount'] / loan['income']) "
   ]
  },
  {
   "cell_type": "code",
   "execution_count": 10,
   "id": "6baadc67",
   "metadata": {
    "execution": {
     "iopub.execute_input": "2024-09-15T20:46:21.847058Z",
     "iopub.status.busy": "2024-09-15T20:46:21.846674Z",
     "iopub.status.idle": "2024-09-15T20:46:21.951499Z",
     "shell.execute_reply": "2024-09-15T20:46:21.950517Z"
    },
    "papermill": {
     "duration": 0.113784,
     "end_time": "2024-09-15T20:46:21.953983",
     "exception": false,
     "start_time": "2024-09-15T20:46:21.840199",
     "status": "completed"
    },
    "tags": []
   },
   "outputs": [
    {
     "data": {
      "text/html": [
       "<div>\n",
       "<style scoped>\n",
       "    .dataframe tbody tr th:only-of-type {\n",
       "        vertical-align: middle;\n",
       "    }\n",
       "\n",
       "    .dataframe tbody tr th {\n",
       "        vertical-align: top;\n",
       "    }\n",
       "\n",
       "    .dataframe thead th {\n",
       "        text-align: right;\n",
       "    }\n",
       "</style>\n",
       "<table border=\"1\" class=\"dataframe\">\n",
       "  <thead>\n",
       "    <tr style=\"text-align: right;\">\n",
       "      <th></th>\n",
       "      <th>ID</th>\n",
       "      <th>loan_amount</th>\n",
       "      <th>rate_of_interest</th>\n",
       "      <th>Interest_rate_spread</th>\n",
       "      <th>Upfront_charges</th>\n",
       "      <th>term</th>\n",
       "      <th>property_value</th>\n",
       "      <th>income</th>\n",
       "      <th>Credit_Score</th>\n",
       "      <th>LTV</th>\n",
       "      <th>Status</th>\n",
       "      <th>dtir1</th>\n",
       "    </tr>\n",
       "  </thead>\n",
       "  <tbody>\n",
       "    <tr>\n",
       "      <th>count</th>\n",
       "      <td>148670.000000</td>\n",
       "      <td>1.486700e+05</td>\n",
       "      <td>148670.000000</td>\n",
       "      <td>148670.000000</td>\n",
       "      <td>148670.000000</td>\n",
       "      <td>148629.000000</td>\n",
       "      <td>1.486700e+05</td>\n",
       "      <td>148670.000000</td>\n",
       "      <td>148670.000000</td>\n",
       "      <td>148670.000000</td>\n",
       "      <td>148670.000000</td>\n",
       "      <td>148670.000000</td>\n",
       "    </tr>\n",
       "    <tr>\n",
       "      <th>mean</th>\n",
       "      <td>99224.500000</td>\n",
       "      <td>3.311177e+05</td>\n",
       "      <td>4.045476</td>\n",
       "      <td>0.441656</td>\n",
       "      <td>3224.996127</td>\n",
       "      <td>335.136582</td>\n",
       "      <td>4.978935e+05</td>\n",
       "      <td>7016.303341</td>\n",
       "      <td>699.789103</td>\n",
       "      <td>65.426067</td>\n",
       "      <td>0.246445</td>\n",
       "      <td>40.500625</td>\n",
       "    </tr>\n",
       "    <tr>\n",
       "      <th>std</th>\n",
       "      <td>42917.476598</td>\n",
       "      <td>1.839093e+05</td>\n",
       "      <td>0.487764</td>\n",
       "      <td>0.445359</td>\n",
       "      <td>2784.133285</td>\n",
       "      <td>58.409084</td>\n",
       "      <td>3.411696e+05</td>\n",
       "      <td>6260.537217</td>\n",
       "      <td>115.875857</td>\n",
       "      <td>43.695528</td>\n",
       "      <td>0.430942</td>\n",
       "      <td>18.232419</td>\n",
       "    </tr>\n",
       "    <tr>\n",
       "      <th>min</th>\n",
       "      <td>24890.000000</td>\n",
       "      <td>1.650000e+04</td>\n",
       "      <td>0.000000</td>\n",
       "      <td>-3.638000</td>\n",
       "      <td>0.000000</td>\n",
       "      <td>96.000000</td>\n",
       "      <td>8.000000e+03</td>\n",
       "      <td>60.000000</td>\n",
       "      <td>500.000000</td>\n",
       "      <td>0.033140</td>\n",
       "      <td>0.000000</td>\n",
       "      <td>1.961806</td>\n",
       "    </tr>\n",
       "    <tr>\n",
       "      <th>25%</th>\n",
       "      <td>62057.250000</td>\n",
       "      <td>1.965000e+05</td>\n",
       "      <td>3.750000</td>\n",
       "      <td>0.181500</td>\n",
       "      <td>1250.000000</td>\n",
       "      <td>360.000000</td>\n",
       "      <td>2.880000e+05</td>\n",
       "      <td>3900.000000</td>\n",
       "      <td>599.000000</td>\n",
       "      <td>54.584352</td>\n",
       "      <td>0.000000</td>\n",
       "      <td>32.000000</td>\n",
       "    </tr>\n",
       "    <tr>\n",
       "      <th>50%</th>\n",
       "      <td>99224.500000</td>\n",
       "      <td>2.965000e+05</td>\n",
       "      <td>4.045476</td>\n",
       "      <td>0.441656</td>\n",
       "      <td>3224.996127</td>\n",
       "      <td>360.000000</td>\n",
       "      <td>4.580000e+05</td>\n",
       "      <td>6120.000000</td>\n",
       "      <td>699.000000</td>\n",
       "      <td>73.026316</td>\n",
       "      <td>0.000000</td>\n",
       "      <td>40.000000</td>\n",
       "    </tr>\n",
       "    <tr>\n",
       "      <th>75%</th>\n",
       "      <td>136391.750000</td>\n",
       "      <td>4.365000e+05</td>\n",
       "      <td>4.250000</td>\n",
       "      <td>0.620000</td>\n",
       "      <td>3889.495000</td>\n",
       "      <td>360.000000</td>\n",
       "      <td>5.980000e+05</td>\n",
       "      <td>8280.000000</td>\n",
       "      <td>800.000000</td>\n",
       "      <td>84.722222</td>\n",
       "      <td>0.000000</td>\n",
       "      <td>47.000000</td>\n",
       "    </tr>\n",
       "    <tr>\n",
       "      <th>max</th>\n",
       "      <td>173559.000000</td>\n",
       "      <td>3.576500e+06</td>\n",
       "      <td>8.000000</td>\n",
       "      <td>3.357000</td>\n",
       "      <td>60000.000000</td>\n",
       "      <td>360.000000</td>\n",
       "      <td>1.650800e+07</td>\n",
       "      <td>578580.000000</td>\n",
       "      <td>900.000000</td>\n",
       "      <td>7831.250000</td>\n",
       "      <td>1.000000</td>\n",
       "      <td>2455.000000</td>\n",
       "    </tr>\n",
       "  </tbody>\n",
       "</table>\n",
       "</div>"
      ],
      "text/plain": [
       "                  ID   loan_amount  rate_of_interest  Interest_rate_spread  \\\n",
       "count  148670.000000  1.486700e+05     148670.000000         148670.000000   \n",
       "mean    99224.500000  3.311177e+05          4.045476              0.441656   \n",
       "std     42917.476598  1.839093e+05          0.487764              0.445359   \n",
       "min     24890.000000  1.650000e+04          0.000000             -3.638000   \n",
       "25%     62057.250000  1.965000e+05          3.750000              0.181500   \n",
       "50%     99224.500000  2.965000e+05          4.045476              0.441656   \n",
       "75%    136391.750000  4.365000e+05          4.250000              0.620000   \n",
       "max    173559.000000  3.576500e+06          8.000000              3.357000   \n",
       "\n",
       "       Upfront_charges           term  property_value         income  \\\n",
       "count    148670.000000  148629.000000    1.486700e+05  148670.000000   \n",
       "mean       3224.996127     335.136582    4.978935e+05    7016.303341   \n",
       "std        2784.133285      58.409084    3.411696e+05    6260.537217   \n",
       "min           0.000000      96.000000    8.000000e+03      60.000000   \n",
       "25%        1250.000000     360.000000    2.880000e+05    3900.000000   \n",
       "50%        3224.996127     360.000000    4.580000e+05    6120.000000   \n",
       "75%        3889.495000     360.000000    5.980000e+05    8280.000000   \n",
       "max       60000.000000     360.000000    1.650800e+07  578580.000000   \n",
       "\n",
       "        Credit_Score            LTV         Status          dtir1  \n",
       "count  148670.000000  148670.000000  148670.000000  148670.000000  \n",
       "mean      699.789103      65.426067       0.246445      40.500625  \n",
       "std       115.875857      43.695528       0.430942      18.232419  \n",
       "min       500.000000       0.033140       0.000000       1.961806  \n",
       "25%       599.000000      54.584352       0.000000      32.000000  \n",
       "50%       699.000000      73.026316       0.000000      40.000000  \n",
       "75%       800.000000      84.722222       0.000000      47.000000  \n",
       "max       900.000000    7831.250000       1.000000    2455.000000  "
      ]
     },
     "execution_count": 10,
     "metadata": {},
     "output_type": "execute_result"
    }
   ],
   "source": [
    "loan.describe()"
   ]
  },
  {
   "cell_type": "code",
   "execution_count": 11,
   "id": "d469abfd",
   "metadata": {
    "execution": {
     "iopub.execute_input": "2024-09-15T20:46:21.966739Z",
     "iopub.status.busy": "2024-09-15T20:46:21.966294Z",
     "iopub.status.idle": "2024-09-15T20:46:21.970931Z",
     "shell.execute_reply": "2024-09-15T20:46:21.969803Z"
    },
    "papermill": {
     "duration": 0.013635,
     "end_time": "2024-09-15T20:46:21.973289",
     "exception": false,
     "start_time": "2024-09-15T20:46:21.959654",
     "status": "completed"
    },
    "tags": []
   },
   "outputs": [],
   "source": [
    "# plt.figure(figsize=(20,25))\n"
   ]
  }
 ],
 "metadata": {
  "kaggle": {
   "accelerator": "none",
   "dataSources": [
    {
     "datasetId": 1897041,
     "sourceId": 3106815,
     "sourceType": "datasetVersion"
    }
   ],
   "dockerImageVersionId": 30761,
   "isGpuEnabled": false,
   "isInternetEnabled": true,
   "language": "python",
   "sourceType": "notebook"
  },
  "kernelspec": {
   "display_name": "Python 3",
   "language": "python",
   "name": "python3"
  },
  "language_info": {
   "codemirror_mode": {
    "name": "ipython",
    "version": 3
   },
   "file_extension": ".py",
   "mimetype": "text/x-python",
   "name": "python",
   "nbconvert_exporter": "python",
   "pygments_lexer": "ipython3",
   "version": "3.10.14"
  },
  "papermill": {
   "default_parameters": {},
   "duration": 8.236471,
   "end_time": "2024-09-15T20:46:22.601089",
   "environment_variables": {},
   "exception": null,
   "input_path": "__notebook__.ipynb",
   "output_path": "__notebook__.ipynb",
   "parameters": {},
   "start_time": "2024-09-15T20:46:14.364618",
   "version": "2.6.0"
  }
 },
 "nbformat": 4,
 "nbformat_minor": 5
}
